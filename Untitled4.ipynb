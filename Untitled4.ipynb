{
  "nbformat": 4,
  "nbformat_minor": 0,
  "metadata": {
    "colab": {
      "provenance": []
    },
    "kernelspec": {
      "name": "python3",
      "display_name": "Python 3"
    },
    "language_info": {
      "name": "python"
    }
  },
  "cells": [
    {
      "cell_type": "code",
      "execution_count": 1,
      "metadata": {
        "colab": {
          "base_uri": "https://localhost:8080/"
        },
        "id": "jV_Avi7Z7sL-",
        "outputId": "bbb54adc-514f-40de-8162-7d0bf9a8b6fc"
      },
      "outputs": [
        {
          "output_type": "stream",
          "name": "stdout",
          "text": [
            "The shortest path from Islamabad to Karachi is: ['Islamabad', 'Rawalpindi', 'Quetta', 'Karachi']\n"
          ]
        }
      ],
      "source": [
        "from collections import deque\n",
        "\n",
        "# Graph representation\n",
        "graph = {\n",
        "    \"Islamabad\": [\"Rawalpindi\", \"Lahore\", \"Peshawar\"],\n",
        "    \"Rawalpindi\": [\"Islamabad\", \"Peshawar\", \"Quetta\"],\n",
        "    \"Peshawar\": [\"Islamabad\", \"Rawalpindi\", \"Quetta\"],\n",
        "    \"Lahore\": [\"Islamabad\", \"Multan\", \"Quetta\"],\n",
        "    \"Multan\": [\"Lahore\", \"Karachi\", \"Quetta\"],\n",
        "    \"Quetta\": [\"Rawalpindi\", \"Peshawar\", \"Multan\", \"Karachi\"],\n",
        "    \"Karachi\": [\"Multan\", \"Quetta\"],\n",
        "}\n",
        "\n",
        "def bfs_shortest_path(graph, start, goal):\n",
        "    queue = deque([(start, [start])])  # (current_node, path)\n",
        "    visited = set()\n",
        "\n",
        "    while queue:\n",
        "        current_node, path = queue.popleft()\n",
        "        visited.add(current_node)\n",
        "\n",
        "        if current_node == goal:\n",
        "            return path\n",
        "\n",
        "        for neighbor in graph[current_node]:\n",
        "            if neighbor not in visited:\n",
        "                queue.append((neighbor, path + [neighbor]))\n",
        "\n",
        "    return None  # Return None if no path found\n",
        "\n",
        "# Finding the shortest path from Islamabad to Karachi\n",
        "start_city = \"Islamabad\"\n",
        "goal_city = \"Karachi\"\n",
        "shortest_path = bfs_shortest_path(graph, start_city, goal_city)\n",
        "\n",
        "print(f\"The shortest path from {start_city} to {goal_city} is: {shortest_path}\")\n"
      ]
    }
  ]
}